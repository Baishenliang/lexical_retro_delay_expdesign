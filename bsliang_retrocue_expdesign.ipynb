{
 "cells": [
  {
   "cell_type": "markdown",
   "metadata": {},
   "source": [
    "## Experimental design scripts\n",
    "### Timing and balancing in Lexical Delay Retrocue Task\n",
    "by Baishen Liang, postdoctoral associative, Cogan Lab, Department of Neurology, Duke University.  \n",
    "baishen.liang@duke.edu, liangbs95@gmail.com  \n",
    "This script provides an interactive way to explore potential parameters of experimental design, including problems under certain constrains."
   ]
  },
  {
   "cell_type": "markdown",
   "metadata": {},
   "source": [
    "### Step1: import packages"
   ]
  },
  {
   "cell_type": "code",
   "metadata": {
    "ExecuteTime": {
     "end_time": "2024-10-29T17:32:40.553992Z",
     "start_time": "2024-10-29T17:32:38.431654Z"
    }
   },
   "source": [
    "import random\n",
    "import numpy as np\n",
    "import pprint\n",
    "from expdesign_utli import calculate_experiment_design"
   ],
   "outputs": [],
   "execution_count": 1
  },
  {
   "metadata": {},
   "cell_type": "markdown",
   "source": "### Step2: parameters setting"
  },
  {
   "metadata": {},
   "cell_type": "markdown",
   "source": "#### 2.1 Experiment limitations"
  },
  {
   "metadata": {
    "tags": [
     "2.1 "
    ],
    "ExecuteTime": {
     "end_time": "2024-10-29T17:32:40.579849Z",
     "start_time": "2024-10-29T17:32:40.572133Z"
    }
   },
   "cell_type": "code",
   "source": [
    "# All time parameters ara in second\n",
    "\n",
    "# Time limitations: not exceeding the following constraints\n",
    "# Reference: lexical delay repetition tasks\n",
    "exp_totaltime=46*60 # Maximal length for the entire experimental session\n",
    "block_gap=0*60 # Minimal gap between blocks\n",
    "block_length=7*60 # Maximal length for each block\n",
    "# Calculate the number of blocks and remaining time\n",
    "calculate_experiment_design(exp_totaltime, block_gap, block_length)\n",
    "\n",
    "# Trial number limitations: not smaller than the trial number limitation for each daya analysis condition (here, per syllable per manipulation condition)\n",
    "ana_con_trial_num=10 # The least 10\n",
    "# Ref: suggested by Kumar.\n",
    "\n",
    "# For each retrocue, the minimum number of trials that it should contain\n",
    "least_totoal_trial_for_each_retro=50"
   ],
   "outputs": [
    {
     "name": "stdout",
     "output_type": "stream",
     "text": [
      "Maximum number of blocks: 6\n",
      "Remaining time: 4.00 minutes\n"
     ]
    }
   ],
   "execution_count": 2
  },
  {
   "metadata": {},
   "cell_type": "markdown",
   "source": "#### 2.2 Parameters"
  },
  {
   "metadata": {
    "ExecuteTime": {
     "end_time": "2024-10-29T17:32:40.670945Z",
     "start_time": "2024-10-29T17:32:40.652218Z"
    }
   },
   "cell_type": "code",
   "source": [
    "# Stim parameters\n",
    "stim = {\n",
    "    \"syllables\": [\"click1\", \"click2\", \"click3\"],#, \"mi\"],  # Different stimuli (CV syllables)\n",
    "    \"length\": 0.3,  # Length of one syllable in seconds\n",
    "    \"gap\": 0.35  # Gap between two consecutive syllables (not too close to prevent neural encoding overlap).\n",
    "}\n",
    "# Ref: \n",
    "# (1) Bonetti et al. (2024). Nature Communications, 15.\n",
    "# (2) Gwilliams et al. (2022). Nature communications, 13.\n",
    "\n",
    "# Delay parameters\n",
    "# Delay length:\n",
    "# (1) not too short to ensure decoding,\n",
    "# (2) not too long to prevent forgetting and ensure more trials added\n",
    "delay = {\n",
    "    \"delay1_length\": 2, # length of delay 1\n",
    "    \"delay2_length\": 2, # length of delay 2\n",
    "    \"response_length\": 3, # length of response window\n",
    "    \"iti\": 0.87 # inter-trial interval\n",
    "    \n",
    "    # The jitters are now directly controlled by the experimental scripts\n",
    "    # Delay jitter:\n",
    "    # \"jitter_random\": 'uniform', #uniform or gaussian distribution of jitter\n",
    "    # \"delay_1_jitter_dev\": 0.2, # deviation parameters for delay 1 jitter (std for Gaussian, and max distance from the mean value for Uniform)\n",
    "    # \"delay_2_jitter_dev\": 0.2, # deviation parameters for delay 2 jitter (std for Gaussian, and max distance from the mean value for Uniform)\n",
    "    #     \"iti_jitter_sd\": 0.2, # deviation parameters for iti jitter (std for Gaussian, and max distance from the mean value for Uniform)\n",
    "}\n",
    "# Reference:\n",
    "# (1) Lexical delay tasks\n",
    "\n",
    "# Retrocue parameters\n",
    "retro = {\n",
    "    \"retro_names\": [\"REP_BTH\",\"REP_BTH\",\"REV_BTH\",\"REV_BTH\",\"REP_1ST\",\"REP_2ND\",\"DRP_BTH\",\"DRP_BTH\"], # Control group half the times.\n",
    "    #\"retro_names\": [\"REP_BTH\",\"REV_BTH\",\"REV_BTH\",\"REP_1ST\",\"REP_2ND\",\"DRP_BTH\"],\n",
    "    # Names of retro cues #randomly generator \n",
    "    # Note: Main category + \"_\" + subcategory. Subcategory may be treated differently in some cases (e.g., randomizing)\n",
    "    # REP_BTH: repeat both\n",
    "    # REV_BTH: reverse both\n",
    "    # REP_1ST: repeat only the first syllable\n",
    "    # REP_2ND: repeat only the second syllable\n",
    "    # DRP_BTH: drop both \n",
    "    \"retro_length\": 0.5 # length of retrocue\n",
    "}\n",
    "# Reference:\n",
    "# (1) van Ede & C. Nobre 2023. Ann. Psych. Rev. (unlimited)\n"
   ],
   "outputs": [],
   "execution_count": 3
  },
  {
   "metadata": {},
   "cell_type": "markdown",
   "source": "#### 2.3 Calculate"
  },
  {
   "metadata": {
    "ExecuteTime": {
     "end_time": "2024-10-29T17:32:40.749249Z",
     "start_time": "2024-10-29T17:32:40.742493Z"
    }
   },
   "cell_type": "code",
   "source": [
    "from expdesign_utli import miniblock_com_math\n",
    "_,trials_per_miniblock = miniblock_com_math(stim, retro,\"exhaustive\")\n",
    "print(f\"Number of trials for all combinations (in a miniblock) : {trials_per_miniblock:.0f}\")"
   ],
   "outputs": [
    {
     "name": "stdout",
     "output_type": "stream",
     "text": [
      "Number of trials for all combinations (in a miniblock) : 48\n"
     ]
    }
   ],
   "execution_count": 4
  },
  {
   "metadata": {
    "ExecuteTime": {
     "end_time": "2024-10-29T17:32:40.794844Z",
     "start_time": "2024-10-29T17:32:40.791072Z"
    }
   },
   "cell_type": "code",
   "source": [
    "from expdesign_utli import miniblock_length_math\n",
    "num_miniblock_inblock, optimal_block_count = miniblock_length_math(trials_per_miniblock, stim, delay, retro, exp_totaltime, block_gap, block_length)"
   ],
   "outputs": [
    {
     "name": "stdout",
     "output_type": "stream",
     "text": [
      "Average trial length: 9.32 seconds\n",
      "Average miniblock length: 411.36 seconds, i.e., 6.86 minutes\n",
      "Remaining time: 8.64 seconds\n",
      "For the given parameters, each block contains: 1 miniblocks\n",
      "For the given parameters, the same sayllble can be repeated 2 times for EACH BLOCK\n",
      "    \n",
      "Suggested block length: 460 seconds, i.e., 7.67 minutes\n",
      "Suggested block counts: 6\n",
      "The same syllable in same position can be repeated 12 times for the ENTIRE EXPERIMENT\n"
     ]
    }
   ],
   "execution_count": 5
  },
  {
   "metadata": {
    "ExecuteTime": {
     "end_time": "2024-10-29T17:32:53.028225Z",
     "start_time": "2024-10-29T17:32:40.817108Z"
    }
   },
   "cell_type": "code",
   "source": [
    "### Step3: making trial spreadsheet\n",
    "from expdesign_utli import generate_triallist\n",
    "generate_triallist(num_miniblock_inblock, optimal_block_count, stim, delay, retro)"
   ],
   "outputs": [
    {
     "name": "stdout",
     "output_type": "stream",
     "text": [
      "=====================================================\n",
      "Now getting a valid randomized trial sequence.\n",
      "=====================================================\n"
     ]
    },
    {
     "data": {
      "text/plain": [
       "     Trial  Block  Miniblock Syllable_1 Syllable_2 Retrocue  Cue_brightness\n",
       "0        1      1          1     click3     click2  DRP_BTH        0.941144\n",
       "1        2      1          1     click1     click3  REV_BTH        0.770325\n",
       "2        3      1          1     click1     click2  REP_2ND        0.611033\n",
       "3        4      1          1     click2     click3  REP_BTH        0.434067\n",
       "4        5      1          1     click2     click1  REV_BTH        0.724898\n",
       "..     ...    ...        ...        ...        ...      ...             ...\n",
       "283    284      6          6     click2     click3  REP_BTH        0.585590\n",
       "284    285      6          6     click2     click1  DRP_BTH        0.964676\n",
       "285    286      6          6     click3     click2  REP_2ND        0.228365\n",
       "286    287      6          6     click3     click1  REP_BTH        0.786502\n",
       "287    288      6          6     click3     click2  DRP_BTH        0.374561\n",
       "\n",
       "[288 rows x 7 columns]"
      ],
      "text/html": [
       "<div>\n",
       "<style scoped>\n",
       "    .dataframe tbody tr th:only-of-type {\n",
       "        vertical-align: middle;\n",
       "    }\n",
       "\n",
       "    .dataframe tbody tr th {\n",
       "        vertical-align: top;\n",
       "    }\n",
       "\n",
       "    .dataframe thead th {\n",
       "        text-align: right;\n",
       "    }\n",
       "</style>\n",
       "<table border=\"1\" class=\"dataframe\">\n",
       "  <thead>\n",
       "    <tr style=\"text-align: right;\">\n",
       "      <th></th>\n",
       "      <th>Trial</th>\n",
       "      <th>Block</th>\n",
       "      <th>Miniblock</th>\n",
       "      <th>Syllable_1</th>\n",
       "      <th>Syllable_2</th>\n",
       "      <th>Retrocue</th>\n",
       "      <th>Cue_brightness</th>\n",
       "    </tr>\n",
       "  </thead>\n",
       "  <tbody>\n",
       "    <tr>\n",
       "      <th>0</th>\n",
       "      <td>1</td>\n",
       "      <td>1</td>\n",
       "      <td>1</td>\n",
       "      <td>click3</td>\n",
       "      <td>click2</td>\n",
       "      <td>DRP_BTH</td>\n",
       "      <td>0.941144</td>\n",
       "    </tr>\n",
       "    <tr>\n",
       "      <th>1</th>\n",
       "      <td>2</td>\n",
       "      <td>1</td>\n",
       "      <td>1</td>\n",
       "      <td>click1</td>\n",
       "      <td>click3</td>\n",
       "      <td>REV_BTH</td>\n",
       "      <td>0.770325</td>\n",
       "    </tr>\n",
       "    <tr>\n",
       "      <th>2</th>\n",
       "      <td>3</td>\n",
       "      <td>1</td>\n",
       "      <td>1</td>\n",
       "      <td>click1</td>\n",
       "      <td>click2</td>\n",
       "      <td>REP_2ND</td>\n",
       "      <td>0.611033</td>\n",
       "    </tr>\n",
       "    <tr>\n",
       "      <th>3</th>\n",
       "      <td>4</td>\n",
       "      <td>1</td>\n",
       "      <td>1</td>\n",
       "      <td>click2</td>\n",
       "      <td>click3</td>\n",
       "      <td>REP_BTH</td>\n",
       "      <td>0.434067</td>\n",
       "    </tr>\n",
       "    <tr>\n",
       "      <th>4</th>\n",
       "      <td>5</td>\n",
       "      <td>1</td>\n",
       "      <td>1</td>\n",
       "      <td>click2</td>\n",
       "      <td>click1</td>\n",
       "      <td>REV_BTH</td>\n",
       "      <td>0.724898</td>\n",
       "    </tr>\n",
       "    <tr>\n",
       "      <th>...</th>\n",
       "      <td>...</td>\n",
       "      <td>...</td>\n",
       "      <td>...</td>\n",
       "      <td>...</td>\n",
       "      <td>...</td>\n",
       "      <td>...</td>\n",
       "      <td>...</td>\n",
       "    </tr>\n",
       "    <tr>\n",
       "      <th>283</th>\n",
       "      <td>284</td>\n",
       "      <td>6</td>\n",
       "      <td>6</td>\n",
       "      <td>click2</td>\n",
       "      <td>click3</td>\n",
       "      <td>REP_BTH</td>\n",
       "      <td>0.585590</td>\n",
       "    </tr>\n",
       "    <tr>\n",
       "      <th>284</th>\n",
       "      <td>285</td>\n",
       "      <td>6</td>\n",
       "      <td>6</td>\n",
       "      <td>click2</td>\n",
       "      <td>click1</td>\n",
       "      <td>DRP_BTH</td>\n",
       "      <td>0.964676</td>\n",
       "    </tr>\n",
       "    <tr>\n",
       "      <th>285</th>\n",
       "      <td>286</td>\n",
       "      <td>6</td>\n",
       "      <td>6</td>\n",
       "      <td>click3</td>\n",
       "      <td>click2</td>\n",
       "      <td>REP_2ND</td>\n",
       "      <td>0.228365</td>\n",
       "    </tr>\n",
       "    <tr>\n",
       "      <th>286</th>\n",
       "      <td>287</td>\n",
       "      <td>6</td>\n",
       "      <td>6</td>\n",
       "      <td>click3</td>\n",
       "      <td>click1</td>\n",
       "      <td>REP_BTH</td>\n",
       "      <td>0.786502</td>\n",
       "    </tr>\n",
       "    <tr>\n",
       "      <th>287</th>\n",
       "      <td>288</td>\n",
       "      <td>6</td>\n",
       "      <td>6</td>\n",
       "      <td>click3</td>\n",
       "      <td>click2</td>\n",
       "      <td>DRP_BTH</td>\n",
       "      <td>0.374561</td>\n",
       "    </tr>\n",
       "  </tbody>\n",
       "</table>\n",
       "<p>288 rows × 7 columns</p>\n",
       "</div>"
      ]
     },
     "execution_count": 6,
     "metadata": {},
     "output_type": "execute_result"
    }
   ],
   "execution_count": 6
  },
  {
   "metadata": {},
   "cell_type": "markdown",
   "source": ""
  }
 ],
 "metadata": {
  "language_info": {
   "name": "python"
  },
  "kernelspec": {
   "name": "python3",
   "language": "python",
   "display_name": "Python 3 (ipykernel)"
  }
 },
 "nbformat": 4,
 "nbformat_minor": 2
}
