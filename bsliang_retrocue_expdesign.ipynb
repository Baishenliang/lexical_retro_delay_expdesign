{
 "cells": [
  {
   "cell_type": "markdown",
   "metadata": {},
   "source": [
    "## Experimental design scripts\n",
    "### Timing and balancing in Lexical Delay Retrocue Task\n",
    "by Baishen Liang, postdoctoral associative, Cogan Lab, Department of Neurology, Duke University.  \n",
    "baishen.liang@duke.edu, liangbs95@gmail.com  \n",
    "This script provides an interactive way to explore potential parameters of experimental design, including problems under certain constrains."
   ]
  },
  {
   "cell_type": "markdown",
   "metadata": {},
   "source": [
    "### Step1: import packages"
   ]
  },
  {
   "cell_type": "code",
   "metadata": {},
   "source": [
    "import random\n",
    "import numpy as np\n",
    "import pprint\n",
    "from expdesign_utli import calculate_experiment_design"
   ],
   "outputs": [],
   "execution_count": null
  },
  {
   "metadata": {},
   "cell_type": "markdown",
   "source": "### Step2: parameters setting"
  },
  {
   "metadata": {},
   "cell_type": "markdown",
   "source": "#### 2.1 Experiment limitations"
  },
  {
   "metadata": {
    "tags": [
     "2.1 "
    ]
   },
   "cell_type": "code",
   "source": [
    "# All time parameters ara in second\n",
    "\n",
    "# Time limitations: not exceeding the following constraints\n",
    "# Reference: lexical delay repetition tasks\n",
    "exp_totaltime=46*60 # Maximal length for the entire experimental session\n",
    "block_gap=0*60 # Minimal gap between blocks\n",
    "block_length=7*60 # Maximal length for each block\n",
    "suggested_blocknum=5 # Suggested block num to run a real experiment. \n",
    "# Calculate the number of blocks and remaining time\n",
    "calculate_experiment_design(exp_totaltime, block_gap, block_length)\n",
    "\n",
    "# Trial number limitations: not smaller than the trial number limitation for each daya analysis condition (here, per syllable per manipulation condition)\n",
    "ana_con_trial_num=10 # The least 10\n",
    "# Ref: suggested by Kumar.\n",
    "\n",
    "# For each retrocue, the minimum number of trials that it should contain\n",
    "least_totoal_trial_for_each_retro=50"
   ],
   "outputs": [],
   "execution_count": null
  },
  {
   "metadata": {},
   "cell_type": "markdown",
   "source": "#### 2.2 Parameters"
  },
  {
   "metadata": {},
   "cell_type": "code",
   "source": [
    "# Stim parameters\n",
    "stim = {\n",
    "    \"syllables\": ['ree','mo','ga'],#, \"mi\"],  # Different stimuli (CV syllables)\n",
    "    \"length\": 0.3,  # Length of one syllable in seconds\n",
    "    \"gap\": 0.35  # Gap between two consecutive syllables (not too close to prevent neural encoding overlap).\n",
    "}\n",
    "# Ref: \n",
    "# (1) Bonetti et al. (2024). Nature Communications, 15.\n",
    "# (2) Gwilliams et al. (2022). Nature communications, 13.\n",
    "\n",
    "# Delay parameters\n",
    "# Delay length:\n",
    "# (1) not too short to ensure decoding,\n",
    "# (2) not too long to prevent forgetting and ensure more trials added\n",
    "delay = {\n",
    "    \"delay1_length\": 2, # length of delay 1\n",
    "    \"delay2_length\": 2, # length of delay 2\n",
    "    \"response_length\": 3, # length of response window\n",
    "    \"iti\": 0.87 # inter-trial interval\n",
    "    \n",
    "    # The jitters are now directly controlled by the experimental scripts\n",
    "    # Delay jitter:\n",
    "    # \"jitter_random\": 'uniform', #uniform or gaussian distribution of jitter\n",
    "    # \"delay_1_jitter_dev\": 0.2, # deviation parameters for delay 1 jitter (std for Gaussian, and max distance from the mean value for Uniform)\n",
    "    # \"delay_2_jitter_dev\": 0.2, # deviation parameters for delay 2 jitter (std for Gaussian, and max distance from the mean value for Uniform)\n",
    "    #     \"iti_jitter_sd\": 0.2, # deviation parameters for iti jitter (std for Gaussian, and max distance from the mean value for Uniform)\n",
    "}\n",
    "# Reference:\n",
    "# (1) Lexical delay tasks\n",
    "\n",
    "# Retrocue parameters\n",
    "retro = {\n",
    "    \"retro_names\": [\"REP_BTH\",\"REP_BTH\",\"REV_BTH\",\"REV_BTH\",\"REP_1ST\",\"REP_2ND\",\"DRP_BTH\",\"DRP_BTH\"], # Control group half the times.\n",
    "    #\"retro_names\": [\"REP_BTH\",\"REV_BTH\",\"REV_BTH\",\"REP_1ST\",\"REP_2ND\",\"DRP_BTH\"],\n",
    "    # Names of retro cues #randomly generator \n",
    "    # Note: Main category + \"_\" + subcategory. Subcategory may be treated differently in some cases (e.g., randomizing)\n",
    "    # REP_BTH: repeat both\n",
    "    # REV_BTH: reverse both\n",
    "    # REP_1ST: repeat only the first syllable\n",
    "    # REP_2ND: repeat only the second syllable\n",
    "    # DRP_BTH: drop both \n",
    "    \"retro_length\": 0.5 # length of retrocue\n",
    "}\n",
    "# Reference:\n",
    "# (1) van Ede & C. Nobre 2023. Ann. Psych. Rev. (unlimited)\n"
   ],
   "outputs": [],
   "execution_count": null
  },
  {
   "metadata": {},
   "cell_type": "markdown",
   "source": "#### 2.3 Calculate"
  },
  {
   "metadata": {},
   "cell_type": "code",
   "source": [
    "from expdesign_utli import miniblock_com_math\n",
    "_,trials_per_miniblock = miniblock_com_math(stim, retro,\"exhaustive\")\n",
    "print(f\"Number of trials for all combinations (in a miniblock) : {trials_per_miniblock:.0f}\")"
   ],
   "outputs": [],
   "execution_count": null
  },
  {
   "metadata": {},
   "cell_type": "code",
   "source": [
    "from expdesign_utli import miniblock_length_math\n",
    "num_miniblock_inblock, optimal_block_count = miniblock_length_math(trials_per_miniblock, stim, delay, retro, exp_totaltime, block_gap, block_length)"
   ],
   "outputs": [],
   "execution_count": null
  },
  {
   "metadata": {},
   "cell_type": "code",
   "source": [
    "### Step3: making trial spreadsheet\n",
    "from expdesign_utli import generate_triallist\n",
    "generate_triallist(num_miniblock_inblock, optimal_block_count, stim, delay, retro,suggested_blocknum)"
   ],
   "outputs": [],
   "execution_count": null
  },
  {
   "metadata": {},
   "cell_type": "markdown",
   "source": ""
  }
 ],
 "metadata": {
  "language_info": {
   "name": "python"
  },
  "kernelspec": {
   "name": "python3",
   "language": "python",
   "display_name": "Python 3 (ipykernel)"
  }
 },
 "nbformat": 4,
 "nbformat_minor": 2
}
