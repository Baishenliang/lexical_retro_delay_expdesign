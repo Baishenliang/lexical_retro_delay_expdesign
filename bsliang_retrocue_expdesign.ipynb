{
 "cells": [
  {
   "cell_type": "markdown",
   "metadata": {},
   "source": [
    "## Experimental design scripts\n",
    "### Timing and balancing in Lexical Delay Retrocue Task\n",
    "by Baishen Liang, postdoctoral associative, Cogan Lab, Department of Neurology, Duke University.  \n",
    "baishen.liang@duke.edu, liangbs95@gmail.com  \n",
    "This script provides an interactive way to explore potential parameters of experimental design, including problems under certain constrains."
   ]
  },
  {
   "cell_type": "markdown",
   "metadata": {},
   "source": [
    "### Step1: import packages"
   ]
  },
  {
   "cell_type": "code",
   "metadata": {
    "ExecuteTime": {
     "end_time": "2024-09-23T00:45:23.229772Z",
     "start_time": "2024-09-23T00:45:21.736374Z"
    }
   },
   "source": [
    "import random\n",
    "import numpy as np\n",
    "import pprint\n",
    "from expdesign_utli import calculate_experiment_design"
   ],
   "outputs": [],
   "execution_count": 1
  },
  {
   "metadata": {},
   "cell_type": "markdown",
   "source": "### Step2: parameters setting"
  },
  {
   "metadata": {},
   "cell_type": "markdown",
   "source": "#### 2.1 Experiment limitations"
  },
  {
   "metadata": {
    "tags": [
     "2.1 "
    ],
    "ExecuteTime": {
     "end_time": "2024-09-23T00:45:23.247100Z",
     "start_time": "2024-09-23T00:45:23.237238Z"
    }
   },
   "cell_type": "code",
   "source": [
    "# All time parameters ara in second\n",
    "\n",
    "# Time limitations: not exceeding the following constraints\n",
    "# Reference: lexical delay repetition tasks\n",
    "exp_totaltime=46*60 # Maximal length for the entire experimental session\n",
    "block_gap=0*60 # Minimal gap between blocks\n",
    "block_length=7*60 # Maximal length for each block\n",
    "# Calculate the number of blocks and remaining time\n",
    "calculate_experiment_design(exp_totaltime, block_gap, block_length)\n",
    "\n",
    "# Trial number limitations: not smaller than the trial number limitation for each daya analysis condition (here, per syllable per manipulation condition)\n",
    "ana_con_trial_num=10 # The least 10\n",
    "# Ref: suggested by Kumar.\n",
    "\n",
    "# For each retrocue, the minimum number of trials that it should contain\n",
    "least_totoal_trial_for_each_retro=50"
   ],
   "outputs": [
    {
     "name": "stdout",
     "output_type": "stream",
     "text": [
      "Maximum number of blocks: 6\n",
      "Remaining time: 4.00 minutes\n"
     ]
    }
   ],
   "execution_count": 2
  },
  {
   "metadata": {},
   "cell_type": "markdown",
   "source": "#### 2.2 Parameters"
  },
  {
   "metadata": {
    "ExecuteTime": {
     "end_time": "2024-09-23T00:45:23.325278Z",
     "start_time": "2024-09-23T00:45:23.318998Z"
    }
   },
   "cell_type": "code",
   "source": [
    "# Stim parameters\n",
    "stim = {\n",
    "    \"syllables\": [\"fa\", \"bu\", \"jo\", \"mi\"],  # Different stimuli (CV syllables)\n",
    "    \"length\": 0.3,  # Length of one syllable in seconds\n",
    "    \"gap\": 0.35  # Gap between two consecutive syllables (not too close to prevent neural encoding overlap).\n",
    "}\n",
    "# Ref: \n",
    "# (1) Bonetti et al. (2024). Nature Communications, 15.\n",
    "# (2) Gwilliams et al. (2022). Nature communications, 13.\n",
    "\n",
    "# Delay parameters\n",
    "# Delay length:\n",
    "# (1) not too short to ensure decoding,\n",
    "# (2) not too long to prevent forgetting and ensure more trials added\n",
    "delay = {\n",
    "    \"delay1_length\": 2, # length of delay 1\n",
    "    \"delay2_length\": 2, # length of delay 2\n",
    "    \"response_length\": 3, # length of response window\n",
    "    \"iti\": 0.87, # inter-trial interval\n",
    "    # Delay jitter:\n",
    "    \"jitter_random\": 'uniform', #uniform or gaussian distribution of jitter\n",
    "    \"delay_1_jitter_sd\": 0.01, # standard deviation of jitters in delay 1\n",
    "    \"delay_2_jitter_sd\": 0.01, # standard deviation of jitters in delay 2\n",
    "        \"iti_jitter_sd\": 0.002, # standard deviation of jitters ITI\n",
    "}\n",
    "# Reference:\n",
    "# (1) Lexical delay tasks\n",
    "\n",
    "# Retrocue parameters\n",
    "retro = {\n",
    "    \"retro_names\": [\"REP_BTH\",\"REP_BTH\",\"REV_BTH\",\"REV_BTH\",\"REP_1ST\",\"REP_2ND\",\"DRP_BTH\",\"DRP_BTH\"], # Control group half the times.\n",
    "    #\"retro_names\": [\"REP_BTH\",\"REV_BTH\",\"REV_BTH\",\"REP_1ST\",\"REP_2ND\",\"DRP_BTH\"],\n",
    "    # Names of retro cues #randomly generator \n",
    "    # Note: Main category + \"_\" + subcategory. Subcategory may be treated differently in some cases (e.g., randomizing)\n",
    "    # REP_BTH: repeat both\n",
    "    # REV_BTH: reverse both\n",
    "    # REP_1ST: repeat only the first syllable\n",
    "    # REP_2ND: repeat only the second syllable\n",
    "    # DRP_BTH: drop both \n",
    "    \"retro_length\": 0.5 # length of retrocue\n",
    "}\n",
    "# Reference:\n",
    "# (1) van Ede & C. Nobre 2023. Ann. Psych. Rev. (unlimited)\n"
   ],
   "outputs": [],
   "execution_count": 3
  },
  {
   "metadata": {},
   "cell_type": "markdown",
   "source": "#### 2.3 Calculate"
  },
  {
   "metadata": {
    "ExecuteTime": {
     "end_time": "2024-09-23T00:45:23.339118Z",
     "start_time": "2024-09-23T00:45:23.331146Z"
    }
   },
   "cell_type": "code",
   "source": [
    "from expdesign_utli import miniblock_com_math\n",
    "_,trials_per_miniblock = miniblock_com_math(stim, retro,\"exhaustive\")\n",
    "print(f\"Number of trials for all combinations (in a miniblock) : {trials_per_miniblock:.0f}\")"
   ],
   "outputs": [
    {
     "name": "stdout",
     "output_type": "stream",
     "text": [
      "Number of trials for all combinations (in a miniblock) : 48\n"
     ]
    }
   ],
   "execution_count": 4
  },
  {
   "metadata": {
    "ExecuteTime": {
     "end_time": "2024-09-23T00:45:35.845077Z",
     "start_time": "2024-09-23T00:45:23.439692Z"
    }
   },
   "cell_type": "code",
   "source": [
    "from expdesign_utli import miniblock_length_math\n",
    "num_miniblock_inblock, optimal_block_count = miniblock_length_math(trials_per_miniblock, stim, delay, retro, exp_totaltime, block_gap, block_length)\n",
    "### Step3: making trial spreadsheet\n",
    "from expdesign_utli import generate_triallist\n",
    "generate_triallist(num_miniblock_inblock, optimal_block_count, stim, delay, retro)"
   ],
   "outputs": [
    {
     "name": "stdout",
     "output_type": "stream",
     "text": [
      "Average trial length: 9.32 seconds\n",
      "Average miniblock length: 447.36 seconds, i.e., 7.46 minutes\n",
      "Remaining time: 420.00 seconds\n",
      "For the given parameters, each block contains: 0 miniblocks\n",
      "For the given parameters, the same sayllble can be repeated 0 times for EACH BLOCK\n",
      "    \n",
      "Suggested block length: 460 seconds, i.e., 7.67 minutes\n",
      "Suggested block counts: 6\n",
      "The same syllable in same position can be repeated 12 times for the ENTIRE EXPERIMENT\n",
      "=====================================================\n",
      "Now getting a valid randomized trial sequence.\n",
      "=====================================================\n"
     ]
    },
    {
     "data": {
      "text/plain": [
       "     Trial  Block  Miniblock Syllable_1 Syllable_2 Retrocue  Delay1_Length  \\\n",
       "0        1      1          1         fa         bu  REV_BTH       2.007271   \n",
       "1        2      1          1         jo         bu  REP_2ND       1.991876   \n",
       "2        3      1          1         bu         fa  REP_BTH       1.995136   \n",
       "3        4      1          1         bu         jo  DRP_BTH       1.998647   \n",
       "4        5      1          1         fa         jo  REV_BTH       1.994425   \n",
       "..     ...    ...        ...        ...        ...      ...            ...   \n",
       "283    284      6          6         fa         jo  REV_BTH       2.002413   \n",
       "284    285      6          6         bu         jo  REP_1ST       2.008664   \n",
       "285    286      6          6         fa         jo  DRP_BTH       1.992194   \n",
       "286    287      6          6         bu         fa  REP_BTH       1.992455   \n",
       "287    288      6          6         jo         fa  REV_BTH       1.998530   \n",
       "\n",
       "     Delay2_Length Delay2_content  ITI_Length  Total_Trial_Length  \n",
       "0         2.005065          bu_fa    0.870807            9.333144  \n",
       "1         2.009085             bu    0.870614            9.321575  \n",
       "2         2.002638          bu_fa    0.871956            9.319729  \n",
       "3         2.003415                   0.868948            9.321011  \n",
       "4         2.001868          jo_fa    0.869028            9.315322  \n",
       "..             ...            ...         ...                 ...  \n",
       "283       1.998168          jo_fa    0.870868            9.321449  \n",
       "284       1.990014             bu    0.868207            9.316885  \n",
       "285       2.004612                   0.871064            9.317870  \n",
       "286       1.998443          bu_fa    0.871368            9.312267  \n",
       "287       1.999390          fa_jo    0.868376            9.316295  \n",
       "\n",
       "[288 rows x 11 columns]"
      ],
      "text/html": [
       "<div>\n",
       "<style scoped>\n",
       "    .dataframe tbody tr th:only-of-type {\n",
       "        vertical-align: middle;\n",
       "    }\n",
       "\n",
       "    .dataframe tbody tr th {\n",
       "        vertical-align: top;\n",
       "    }\n",
       "\n",
       "    .dataframe thead th {\n",
       "        text-align: right;\n",
       "    }\n",
       "</style>\n",
       "<table border=\"1\" class=\"dataframe\">\n",
       "  <thead>\n",
       "    <tr style=\"text-align: right;\">\n",
       "      <th></th>\n",
       "      <th>Trial</th>\n",
       "      <th>Block</th>\n",
       "      <th>Miniblock</th>\n",
       "      <th>Syllable_1</th>\n",
       "      <th>Syllable_2</th>\n",
       "      <th>Retrocue</th>\n",
       "      <th>Delay1_Length</th>\n",
       "      <th>Delay2_Length</th>\n",
       "      <th>Delay2_content</th>\n",
       "      <th>ITI_Length</th>\n",
       "      <th>Total_Trial_Length</th>\n",
       "    </tr>\n",
       "  </thead>\n",
       "  <tbody>\n",
       "    <tr>\n",
       "      <th>0</th>\n",
       "      <td>1</td>\n",
       "      <td>1</td>\n",
       "      <td>1</td>\n",
       "      <td>fa</td>\n",
       "      <td>bu</td>\n",
       "      <td>REV_BTH</td>\n",
       "      <td>2.007271</td>\n",
       "      <td>2.005065</td>\n",
       "      <td>bu_fa</td>\n",
       "      <td>0.870807</td>\n",
       "      <td>9.333144</td>\n",
       "    </tr>\n",
       "    <tr>\n",
       "      <th>1</th>\n",
       "      <td>2</td>\n",
       "      <td>1</td>\n",
       "      <td>1</td>\n",
       "      <td>jo</td>\n",
       "      <td>bu</td>\n",
       "      <td>REP_2ND</td>\n",
       "      <td>1.991876</td>\n",
       "      <td>2.009085</td>\n",
       "      <td>bu</td>\n",
       "      <td>0.870614</td>\n",
       "      <td>9.321575</td>\n",
       "    </tr>\n",
       "    <tr>\n",
       "      <th>2</th>\n",
       "      <td>3</td>\n",
       "      <td>1</td>\n",
       "      <td>1</td>\n",
       "      <td>bu</td>\n",
       "      <td>fa</td>\n",
       "      <td>REP_BTH</td>\n",
       "      <td>1.995136</td>\n",
       "      <td>2.002638</td>\n",
       "      <td>bu_fa</td>\n",
       "      <td>0.871956</td>\n",
       "      <td>9.319729</td>\n",
       "    </tr>\n",
       "    <tr>\n",
       "      <th>3</th>\n",
       "      <td>4</td>\n",
       "      <td>1</td>\n",
       "      <td>1</td>\n",
       "      <td>bu</td>\n",
       "      <td>jo</td>\n",
       "      <td>DRP_BTH</td>\n",
       "      <td>1.998647</td>\n",
       "      <td>2.003415</td>\n",
       "      <td></td>\n",
       "      <td>0.868948</td>\n",
       "      <td>9.321011</td>\n",
       "    </tr>\n",
       "    <tr>\n",
       "      <th>4</th>\n",
       "      <td>5</td>\n",
       "      <td>1</td>\n",
       "      <td>1</td>\n",
       "      <td>fa</td>\n",
       "      <td>jo</td>\n",
       "      <td>REV_BTH</td>\n",
       "      <td>1.994425</td>\n",
       "      <td>2.001868</td>\n",
       "      <td>jo_fa</td>\n",
       "      <td>0.869028</td>\n",
       "      <td>9.315322</td>\n",
       "    </tr>\n",
       "    <tr>\n",
       "      <th>...</th>\n",
       "      <td>...</td>\n",
       "      <td>...</td>\n",
       "      <td>...</td>\n",
       "      <td>...</td>\n",
       "      <td>...</td>\n",
       "      <td>...</td>\n",
       "      <td>...</td>\n",
       "      <td>...</td>\n",
       "      <td>...</td>\n",
       "      <td>...</td>\n",
       "      <td>...</td>\n",
       "    </tr>\n",
       "    <tr>\n",
       "      <th>283</th>\n",
       "      <td>284</td>\n",
       "      <td>6</td>\n",
       "      <td>6</td>\n",
       "      <td>fa</td>\n",
       "      <td>jo</td>\n",
       "      <td>REV_BTH</td>\n",
       "      <td>2.002413</td>\n",
       "      <td>1.998168</td>\n",
       "      <td>jo_fa</td>\n",
       "      <td>0.870868</td>\n",
       "      <td>9.321449</td>\n",
       "    </tr>\n",
       "    <tr>\n",
       "      <th>284</th>\n",
       "      <td>285</td>\n",
       "      <td>6</td>\n",
       "      <td>6</td>\n",
       "      <td>bu</td>\n",
       "      <td>jo</td>\n",
       "      <td>REP_1ST</td>\n",
       "      <td>2.008664</td>\n",
       "      <td>1.990014</td>\n",
       "      <td>bu</td>\n",
       "      <td>0.868207</td>\n",
       "      <td>9.316885</td>\n",
       "    </tr>\n",
       "    <tr>\n",
       "      <th>285</th>\n",
       "      <td>286</td>\n",
       "      <td>6</td>\n",
       "      <td>6</td>\n",
       "      <td>fa</td>\n",
       "      <td>jo</td>\n",
       "      <td>DRP_BTH</td>\n",
       "      <td>1.992194</td>\n",
       "      <td>2.004612</td>\n",
       "      <td></td>\n",
       "      <td>0.871064</td>\n",
       "      <td>9.317870</td>\n",
       "    </tr>\n",
       "    <tr>\n",
       "      <th>286</th>\n",
       "      <td>287</td>\n",
       "      <td>6</td>\n",
       "      <td>6</td>\n",
       "      <td>bu</td>\n",
       "      <td>fa</td>\n",
       "      <td>REP_BTH</td>\n",
       "      <td>1.992455</td>\n",
       "      <td>1.998443</td>\n",
       "      <td>bu_fa</td>\n",
       "      <td>0.871368</td>\n",
       "      <td>9.312267</td>\n",
       "    </tr>\n",
       "    <tr>\n",
       "      <th>287</th>\n",
       "      <td>288</td>\n",
       "      <td>6</td>\n",
       "      <td>6</td>\n",
       "      <td>jo</td>\n",
       "      <td>fa</td>\n",
       "      <td>REV_BTH</td>\n",
       "      <td>1.998530</td>\n",
       "      <td>1.999390</td>\n",
       "      <td>fa_jo</td>\n",
       "      <td>0.868376</td>\n",
       "      <td>9.316295</td>\n",
       "    </tr>\n",
       "  </tbody>\n",
       "</table>\n",
       "<p>288 rows × 11 columns</p>\n",
       "</div>"
      ]
     },
     "execution_count": 5,
     "metadata": {},
     "output_type": "execute_result"
    }
   ],
   "execution_count": 5
  },
  {
   "metadata": {},
   "cell_type": "markdown",
   "source": ""
  }
 ],
 "metadata": {
  "language_info": {
   "name": "python"
  },
  "kernelspec": {
   "name": "python3",
   "language": "python",
   "display_name": "Python 3 (ipykernel)"
  }
 },
 "nbformat": 4,
 "nbformat_minor": 2
}
