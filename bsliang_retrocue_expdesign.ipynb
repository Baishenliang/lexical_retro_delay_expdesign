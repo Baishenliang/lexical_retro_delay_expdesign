{
 "cells": [
  {
   "cell_type": "markdown",
   "metadata": {},
   "source": [
    "## Experimental design scripts\n",
    "### Timing and balancing in Lexical Delay Retrocue Task\n",
    "by Baishen Liang, postdoctoral associative, Cogan Lab, Department of Neurology, Duke University.  \n",
    "baishen.liang@duke.edu, liangbs95@gmail.com  \n",
    "This script provides an interactive way to explore potential parameters of experimental design, including problems under certain constrains."
   ]
  },
  {
   "cell_type": "markdown",
   "metadata": {},
   "source": [
    "### Step1: import packages"
   ]
  },
  {
   "cell_type": "code",
   "metadata": {
    "jupyter": {
     "is_executing": true
    }
   },
   "source": [
    "import random\n",
    "import numpy as np\n",
    "import pprint"
   ],
   "outputs": [],
   "execution_count": null
  },
  {
   "metadata": {},
   "cell_type": "markdown",
   "source": "### Step2: parameters setting"
  },
  {
   "metadata": {},
   "cell_type": "code",
   "outputs": [],
   "execution_count": null,
   "source": ""
  }
 ],
 "metadata": {
  "language_info": {
   "name": "python"
  }
 },
 "nbformat": 4,
 "nbformat_minor": 2
}
