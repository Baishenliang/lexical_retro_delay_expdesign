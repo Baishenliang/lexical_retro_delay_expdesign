{
 "cells": [
  {
   "cell_type": "markdown",
   "metadata": {},
   "source": [
    "## Experimental design scripts\n",
    "### Timing and balancing in Lexical Delay Retrocue Task\n",
    "by Baishen Liang, postdoctoral associative, Cogan Lab, Department of Neurology, Duke University.  \n",
    "baishen.liang@duke.edu, liangbs95@gmail.com  \n",
    "This script provides an interactive way to explore potential parameters of experimental design, including problems under certain constrains."
   ]
  },
  {
   "cell_type": "markdown",
   "metadata": {},
   "source": [
    "### Step1: import packages"
   ]
  },
  {
   "cell_type": "code",
   "metadata": {
    "ExecuteTime": {
     "end_time": "2025-01-10T16:44:09.485073Z",
     "start_time": "2025-01-10T16:44:09.475076Z"
    }
   },
   "source": [
    "import random\n",
    "import numpy as np\n",
    "import pprint\n",
    "from expdesign_utli import calculate_experiment_design"
   ],
   "outputs": [],
   "execution_count": 2
  },
  {
   "metadata": {},
   "cell_type": "markdown",
   "source": "### Step2: parameters setting"
  },
  {
   "metadata": {},
   "cell_type": "markdown",
   "source": "#### 2.1 Experiment limitations"
  },
  {
   "metadata": {
    "tags": [
     "2.1 "
    ],
    "ExecuteTime": {
     "end_time": "2025-01-10T16:44:09.505497Z",
     "start_time": "2025-01-10T16:44:09.500789Z"
    }
   },
   "cell_type": "code",
   "source": [
    "# All time parameters ara in second\n",
    "\n",
    "# Time limitations: not exceeding the following constraints\n",
    "# Reference: lexical delay repetition tasks\n",
    "exp_totaltime=46*60 # Maximal length for the entire experimental session\n",
    "block_gap=0*60 # Minimal gap between blocks\n",
    "block_length=7*60 # Maximal length for each block\n",
    "suggested_blocknum=5 # Suggested block num to run a real experiment. \n",
    "# Calculate the number of blocks and remaining time\n",
    "calculate_experiment_design(exp_totaltime, block_gap, block_length)\n",
    "\n",
    "# Trial number limitations: not smaller than the trial number limitation for each daya analysis condition (here, per syllable per manipulation condition)\n",
    "ana_con_trial_num=10 # The least 10\n",
    "# Ref: suggested by Kumar.\n",
    "\n",
    "# For each retrocue, the minimum number of trials that it should contain\n",
    "least_totoal_trial_for_each_retro=50"
   ],
   "outputs": [
    {
     "name": "stdout",
     "output_type": "stream",
     "text": [
      "Maximum number of blocks: 6\n",
      "Remaining time: 4.00 minutes\n"
     ]
    }
   ],
   "execution_count": 3
  },
  {
   "metadata": {},
   "cell_type": "markdown",
   "source": "#### 2.2 Parameters"
  },
  {
   "metadata": {
    "ExecuteTime": {
     "end_time": "2025-01-10T16:44:09.519811Z",
     "start_time": "2025-01-10T16:44:09.507002Z"
    }
   },
   "cell_type": "code",
   "source": [
    "# Stim parameters\n",
    "stim = {\n",
    "    \"syllables\": ['ree','mo','ga'],#, \"mi\"],  # Different stimuli (CV syllables)\n",
    "    \"length\": 0.3,  # Length of one syllable in seconds\n",
    "    \"gap\": 0.35  # Gap between two consecutive syllables (not too close to prevent neural encoding overlap).\n",
    "}\n",
    "# Ref: \n",
    "# (1) Bonetti et al. (2024). Nature Communications, 15.\n",
    "# (2) Gwilliams et al. (2022). Nature communications, 13.\n",
    "\n",
    "# Delay parameters\n",
    "# Delay length:\n",
    "# (1) not too short to ensure decoding,\n",
    "# (2) not too long to prevent forgetting and ensure more trials added\n",
    "delay = {\n",
    "    \"delay1_length\": 2, # length of delay 1\n",
    "    \"delay2_length\": 2, # length of delay 2\n",
    "    \"response_length\": 3, # length of response window\n",
    "    \"iti\": 0.87 # inter-trial interval\n",
    "    \n",
    "    # The jitters are now directly controlled by the experimental scripts\n",
    "    # Delay jitter:\n",
    "    # \"jitter_random\": 'uniform', #uniform or gaussian distribution of jitter\n",
    "    # \"delay_1_jitter_dev\": 0.2, # deviation parameters for delay 1 jitter (std for Gaussian, and max distance from the mean value for Uniform)\n",
    "    # \"delay_2_jitter_dev\": 0.2, # deviation parameters for delay 2 jitter (std for Gaussian, and max distance from the mean value for Uniform)\n",
    "    #     \"iti_jitter_sd\": 0.2, # deviation parameters for iti jitter (std for Gaussian, and max distance from the mean value for Uniform)\n",
    "}\n",
    "# Reference:\n",
    "# (1) Lexical delay tasks\n",
    "\n",
    "# Retrocue parameters\n",
    "retro = {\n",
    "    \"retro_names\": [\"REP_BTH\",\"REP_BTH\",\"REV_BTH\",\"REV_BTH\",\"REP_1ST\",\"REP_2ND\",\"DRP_BTH\",\"DRP_BTH\"], # Control group half the times.\n",
    "    #\"retro_names\": [\"REP_BTH\",\"REV_BTH\",\"REV_BTH\",\"REP_1ST\",\"REP_2ND\",\"DRP_BTH\"],\n",
    "    # Names of retro cues #randomly generator \n",
    "    # Note: Main category + \"_\" + subcategory. Subcategory may be treated differently in some cases (e.g., randomizing)\n",
    "    # REP_BTH: repeat both\n",
    "    # REV_BTH: reverse both\n",
    "    # REP_1ST: repeat only the first syllable\n",
    "    # REP_2ND: repeat only the second syllable\n",
    "    # DRP_BTH: drop both \n",
    "    \"retro_length\": 0.5 # length of retrocue\n",
    "}\n",
    "# Reference:\n",
    "# (1) van Ede & C. Nobre 2023. Ann. Psych. Rev. (unlimited)\n"
   ],
   "outputs": [],
   "execution_count": 4
  },
  {
   "metadata": {},
   "cell_type": "markdown",
   "source": "#### 2.3 Calculate"
  },
  {
   "metadata": {
    "ExecuteTime": {
     "end_time": "2025-01-10T16:44:09.536572Z",
     "start_time": "2025-01-10T16:44:09.531945Z"
    }
   },
   "cell_type": "code",
   "source": [
    "from expdesign_utli import miniblock_com_math\n",
    "_,trials_per_miniblock = miniblock_com_math(stim, retro,\"exhaustive\")\n",
    "print(f\"Number of trials for all combinations (in a miniblock) : {trials_per_miniblock:.0f}\")"
   ],
   "outputs": [
    {
     "name": "stdout",
     "output_type": "stream",
     "text": [
      "Number of trials for all combinations (in a miniblock) : 48\n"
     ]
    }
   ],
   "execution_count": 5
  },
  {
   "metadata": {
    "ExecuteTime": {
     "end_time": "2025-01-10T16:44:09.552495Z",
     "start_time": "2025-01-10T16:44:09.541440Z"
    }
   },
   "cell_type": "code",
   "source": [
    "from expdesign_utli import miniblock_length_math\n",
    "num_miniblock_inblock, optimal_block_count = miniblock_length_math(trials_per_miniblock, stim, delay, retro, exp_totaltime, block_gap, block_length)"
   ],
   "outputs": [
    {
     "name": "stdout",
     "output_type": "stream",
     "text": [
      "Average trial length: 9.32 seconds\n",
      "Average miniblock length: 411.36 seconds, i.e., 6.86 minutes\n",
      "Remaining time: 8.64 seconds\n",
      "For the given parameters, each block contains: 1 miniblocks\n",
      "For the given parameters, the same sayllble can be repeated 2 times for EACH BLOCK\n",
      "    \n",
      "Suggested block length: 460 seconds, i.e., 7.67 minutes\n",
      "Suggested block counts: 6\n",
      "The same syllable in same position can be repeated 12 times for the ENTIRE EXPERIMENT\n"
     ]
    }
   ],
   "execution_count": 6
  },
  {
   "metadata": {
    "ExecuteTime": {
     "end_time": "2025-01-10T16:44:21.852240Z",
     "start_time": "2025-01-10T16:44:09.575410Z"
    }
   },
   "cell_type": "code",
   "source": [
    "### Step3: making trial spreadsheet\n",
    "from expdesign_utli import generate_triallist\n",
    "generate_triallist(num_miniblock_inblock, optimal_block_count, stim, delay, retro,suggested_blocknum)"
   ],
   "outputs": [
    {
     "name": "stdout",
     "output_type": "stream",
     "text": [
      "=====================================================\n",
      "Now getting a valid randomized trial sequence.\n",
      "=====================================================\n"
     ]
    },
    {
     "data": {
      "text/plain": [
       "     Trial  Block  Suggested_Block  Miniblock Syllable_1 Syllable_2 Retrocue  \\\n",
       "0        1      1                1          1        ree         mo  DRP_BTH   \n",
       "1        2      1                1          1        ree         ga  REV_BTH   \n",
       "2        3      1                1          1         ga         mo  DRP_BTH   \n",
       "3        4      1                1          1        ree         mo  REP_BTH   \n",
       "4        5      1                1          1        ree         ga  REP_1ST   \n",
       "..     ...    ...              ...        ...        ...        ...      ...   \n",
       "283    284      6                5          6        ree         mo  REV_BTH   \n",
       "284    285      6                5          6        ree         ga  DRP_BTH   \n",
       "285    286      6                5          6         mo        ree  REP_BTH   \n",
       "286    287      6                5          6         ga         mo  REP_1ST   \n",
       "287    288      6                5          6        ree         ga  REV_BTH   \n",
       "\n",
       "     Cue_brightness  \n",
       "0          0.348832  \n",
       "1          0.224206  \n",
       "2          0.492337  \n",
       "3          0.511701  \n",
       "4          0.564475  \n",
       "..              ...  \n",
       "283        0.807991  \n",
       "284        0.093637  \n",
       "285        0.890389  \n",
       "286        0.675703  \n",
       "287        0.682328  \n",
       "\n",
       "[288 rows x 8 columns]"
      ],
      "text/html": [
       "<div>\n",
       "<style scoped>\n",
       "    .dataframe tbody tr th:only-of-type {\n",
       "        vertical-align: middle;\n",
       "    }\n",
       "\n",
       "    .dataframe tbody tr th {\n",
       "        vertical-align: top;\n",
       "    }\n",
       "\n",
       "    .dataframe thead th {\n",
       "        text-align: right;\n",
       "    }\n",
       "</style>\n",
       "<table border=\"1\" class=\"dataframe\">\n",
       "  <thead>\n",
       "    <tr style=\"text-align: right;\">\n",
       "      <th></th>\n",
       "      <th>Trial</th>\n",
       "      <th>Block</th>\n",
       "      <th>Suggested_Block</th>\n",
       "      <th>Miniblock</th>\n",
       "      <th>Syllable_1</th>\n",
       "      <th>Syllable_2</th>\n",
       "      <th>Retrocue</th>\n",
       "      <th>Cue_brightness</th>\n",
       "    </tr>\n",
       "  </thead>\n",
       "  <tbody>\n",
       "    <tr>\n",
       "      <th>0</th>\n",
       "      <td>1</td>\n",
       "      <td>1</td>\n",
       "      <td>1</td>\n",
       "      <td>1</td>\n",
       "      <td>ree</td>\n",
       "      <td>mo</td>\n",
       "      <td>DRP_BTH</td>\n",
       "      <td>0.348832</td>\n",
       "    </tr>\n",
       "    <tr>\n",
       "      <th>1</th>\n",
       "      <td>2</td>\n",
       "      <td>1</td>\n",
       "      <td>1</td>\n",
       "      <td>1</td>\n",
       "      <td>ree</td>\n",
       "      <td>ga</td>\n",
       "      <td>REV_BTH</td>\n",
       "      <td>0.224206</td>\n",
       "    </tr>\n",
       "    <tr>\n",
       "      <th>2</th>\n",
       "      <td>3</td>\n",
       "      <td>1</td>\n",
       "      <td>1</td>\n",
       "      <td>1</td>\n",
       "      <td>ga</td>\n",
       "      <td>mo</td>\n",
       "      <td>DRP_BTH</td>\n",
       "      <td>0.492337</td>\n",
       "    </tr>\n",
       "    <tr>\n",
       "      <th>3</th>\n",
       "      <td>4</td>\n",
       "      <td>1</td>\n",
       "      <td>1</td>\n",
       "      <td>1</td>\n",
       "      <td>ree</td>\n",
       "      <td>mo</td>\n",
       "      <td>REP_BTH</td>\n",
       "      <td>0.511701</td>\n",
       "    </tr>\n",
       "    <tr>\n",
       "      <th>4</th>\n",
       "      <td>5</td>\n",
       "      <td>1</td>\n",
       "      <td>1</td>\n",
       "      <td>1</td>\n",
       "      <td>ree</td>\n",
       "      <td>ga</td>\n",
       "      <td>REP_1ST</td>\n",
       "      <td>0.564475</td>\n",
       "    </tr>\n",
       "    <tr>\n",
       "      <th>...</th>\n",
       "      <td>...</td>\n",
       "      <td>...</td>\n",
       "      <td>...</td>\n",
       "      <td>...</td>\n",
       "      <td>...</td>\n",
       "      <td>...</td>\n",
       "      <td>...</td>\n",
       "      <td>...</td>\n",
       "    </tr>\n",
       "    <tr>\n",
       "      <th>283</th>\n",
       "      <td>284</td>\n",
       "      <td>6</td>\n",
       "      <td>5</td>\n",
       "      <td>6</td>\n",
       "      <td>ree</td>\n",
       "      <td>mo</td>\n",
       "      <td>REV_BTH</td>\n",
       "      <td>0.807991</td>\n",
       "    </tr>\n",
       "    <tr>\n",
       "      <th>284</th>\n",
       "      <td>285</td>\n",
       "      <td>6</td>\n",
       "      <td>5</td>\n",
       "      <td>6</td>\n",
       "      <td>ree</td>\n",
       "      <td>ga</td>\n",
       "      <td>DRP_BTH</td>\n",
       "      <td>0.093637</td>\n",
       "    </tr>\n",
       "    <tr>\n",
       "      <th>285</th>\n",
       "      <td>286</td>\n",
       "      <td>6</td>\n",
       "      <td>5</td>\n",
       "      <td>6</td>\n",
       "      <td>mo</td>\n",
       "      <td>ree</td>\n",
       "      <td>REP_BTH</td>\n",
       "      <td>0.890389</td>\n",
       "    </tr>\n",
       "    <tr>\n",
       "      <th>286</th>\n",
       "      <td>287</td>\n",
       "      <td>6</td>\n",
       "      <td>5</td>\n",
       "      <td>6</td>\n",
       "      <td>ga</td>\n",
       "      <td>mo</td>\n",
       "      <td>REP_1ST</td>\n",
       "      <td>0.675703</td>\n",
       "    </tr>\n",
       "    <tr>\n",
       "      <th>287</th>\n",
       "      <td>288</td>\n",
       "      <td>6</td>\n",
       "      <td>5</td>\n",
       "      <td>6</td>\n",
       "      <td>ree</td>\n",
       "      <td>ga</td>\n",
       "      <td>REV_BTH</td>\n",
       "      <td>0.682328</td>\n",
       "    </tr>\n",
       "  </tbody>\n",
       "</table>\n",
       "<p>288 rows × 8 columns</p>\n",
       "</div>"
      ]
     },
     "execution_count": 7,
     "metadata": {},
     "output_type": "execute_result"
    }
   ],
   "execution_count": 7
  },
  {
   "metadata": {},
   "cell_type": "markdown",
   "source": ""
  }
 ],
 "metadata": {
  "language_info": {
   "name": "python"
  },
  "kernelspec": {
   "name": "python3",
   "language": "python",
   "display_name": "Python 3 (ipykernel)"
  }
 },
 "nbformat": 4,
 "nbformat_minor": 2
}
