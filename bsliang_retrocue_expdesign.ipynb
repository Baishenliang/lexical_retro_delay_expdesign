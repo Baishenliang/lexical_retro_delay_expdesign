{
 "cells": [
  {
   "cell_type": "markdown",
   "metadata": {},
   "source": [
    "## Experimental design scripts\n",
    "### Timing and balancing in Lexical Delay Retrocue Task\n",
    "by Baishen Liang, postdoctoral associative, Cogan Lab, Department of Neurology, Duke University.  \n",
    "baishen.liang@duke.edu, liangbs95@gmail.com  \n",
    "This script provides an interactive way to explore potential parameters of experimental design, including problems under certain constrains."
   ]
  },
  {
   "cell_type": "markdown",
   "metadata": {},
   "source": [
    "### Step1: import packages"
   ]
  },
  {
   "cell_type": "code",
   "metadata": {
    "ExecuteTime": {
     "end_time": "2024-09-11T14:23:10.990589Z",
     "start_time": "2024-09-11T14:23:10.984376Z"
    }
   },
   "source": [
    "import random\n",
    "import numpy as np\n",
    "import pprint\n",
    "from expdesign_utli import calculate_experiment_design"
   ],
   "outputs": [],
   "execution_count": 16
  },
  {
   "metadata": {},
   "cell_type": "markdown",
   "source": "### Step2: parameters setting"
  },
  {
   "metadata": {},
   "cell_type": "markdown",
   "source": "#### 2.1 Experiment limitations"
  },
  {
   "metadata": {
    "tags": [
     "2.1 "
    ],
    "ExecuteTime": {
     "end_time": "2024-09-11T14:23:11.063406Z",
     "start_time": "2024-09-11T14:23:11.048665Z"
    }
   },
   "cell_type": "code",
   "source": [
    "# All time parameters ara in second\n",
    "\n",
    "# Time limitations: not exceeding the following constraints\n",
    "# Reference: lexical delay repetition tasks\n",
    "exp_totaltime=40*60 # Maximal length for the entire experimental session\n",
    "block_gap=0*60 # Minimal gap between blocks\n",
    "block_length=7*60 # Maximal length for each block\n",
    "# Calculate the number of blocks and remaining time\n",
    "calculate_experiment_design(exp_totaltime, block_gap, block_length)\n",
    "\n",
    "# Trial number limitations: not smaller than the trial number limitation for each daya analysis condition (here, per syllable per manipulation condition)\n",
    "ana_con_trial_num=10 # The least 10\n",
    "# Ref: suggested by Kumar."
   ],
   "outputs": [
    {
     "name": "stdout",
     "output_type": "stream",
     "text": [
      "Maximum number of blocks: 5\n",
      "Remaining time: 5.00 minutes\n"
     ]
    }
   ],
   "execution_count": 17
  },
  {
   "metadata": {},
   "cell_type": "markdown",
   "source": "#### 2.2 Parameters"
  },
  {
   "metadata": {
    "ExecuteTime": {
     "end_time": "2024-09-11T14:23:11.176727Z",
     "start_time": "2024-09-11T14:23:11.170677Z"
    }
   },
   "cell_type": "code",
   "source": [
    "# Stim parameters\n",
    "stim = {\n",
    "    \"syllables\": [\"fa\", \"bu\", \"jo\"],#, \"mi\"],  # Different stimuli (CV syllables)\n",
    "    \"length\": 0.3,  # Length of one syllable in seconds\n",
    "    \"gap\": 0.35  # Gap between two consecutive syllables (not too close to prevent neural encoding overlap).\n",
    "}\n",
    "# Ref: \n",
    "# (1) Bonetti et al. (2024). Nature Communications, 15.\n",
    "# (2) Gwilliams et al. (2022). Nature communications, 13.\n",
    "\n",
    "# Delay parameters\n",
    "# Delay length:\n",
    "# (1) not too short to ensure decoding,\n",
    "# (2) not too long to prevent forgetting and ensure more trials added\n",
    "delay = {\n",
    "    \"delay1_length\": 2, # length of delay 1\n",
    "    \"delay2_length\": 2, # length of delay 2\n",
    "    \"response_length\": 3, # length of response window\n",
    "    \"iti\": 0.87, # inter-trial interval\n",
    "    # Delay jitter:\n",
    "    \"jitter_random\": 'uniform', #uniform or gaussian distribution of jitter\n",
    "    \"delay_1_jitter_sd\": 0.01, # standard deviation of jitters in delay 1\n",
    "    \"delay_2_jitter_sd\": 0.01, # standard deviation of jitters in delay 2\n",
    "        \"iti_jitter_sd\": 0.002, # standard deviation of jitters ITI\n",
    "}\n",
    "# Reference:\n",
    "# (1) Lexical delay tasks\n",
    "\n",
    "# Retrocue parameters\n",
    "retro = {\n",
    "    \"retro_names\": [\"Repeat\",\"Repeat\",\"Reverse\",\"Reverse\",\"Repeat_1st\",\"Repeat_2nd\",\"Drop\",\"Drop\"], # Names of retro cues #randomly generator \n",
    "    \"retro_length\": 0.5 # length of retrocue\n",
    "}\n",
    "# Reference:\n",
    "# (1) van Ede & C. Nobre 2023. Ann. Psych. Rev. (unlimited)\n"
   ],
   "outputs": [],
   "execution_count": 18
  },
  {
   "metadata": {},
   "cell_type": "markdown",
   "source": "#### 2.3 Calculate"
  },
  {
   "metadata": {
    "ExecuteTime": {
     "end_time": "2024-09-11T14:23:11.217387Z",
     "start_time": "2024-09-11T14:23:11.214106Z"
    }
   },
   "cell_type": "code",
   "source": [
    "from expdesign_utli import miniblock_com_math\n",
    "_,trials_per_miniblock = miniblock_com_math(stim, retro,\"exhaustive\")\n",
    "print(f\"Number of trials required in a miniblock: {trials_per_miniblock:.0f}\")"
   ],
   "outputs": [
    {
     "name": "stdout",
     "output_type": "stream",
     "text": [
      "Number of trials required in a miniblock: 48\n"
     ]
    }
   ],
   "execution_count": 19
  },
  {
   "metadata": {
    "ExecuteTime": {
     "end_time": "2024-09-11T14:23:11.246006Z",
     "start_time": "2024-09-11T14:23:11.242486Z"
    }
   },
   "cell_type": "code",
   "source": [
    "from expdesign_utli import miniblock_length_math\n",
    "miniblock_length_math(trials_per_miniblock, stim, delay, retro, exp_totaltime, block_gap, block_length)"
   ],
   "outputs": [
    {
     "name": "stdout",
     "output_type": "stream",
     "text": [
      "Average trial length: 9.32 seconds\n",
      "Average miniblock length: 447.36 seconds, i.e., 7.46 minutes\n",
      "Remaining time: 420.00 seconds\n",
      "For the given parameters, each block contains: 0 miniblocks\n",
      "For the given parameters, the same sayllble can be repeated 0 times for EACH BLOCK\n",
      "    \n",
      "Suggested block length: 480 seconds, i.e., 8.00 minutes\n",
      "Suggested block counts: 5\n",
      "For the suggested version, the same sayllble can be repeated 10 times for the ENTIRE EXPERIMENT\n"
     ]
    }
   ],
   "execution_count": 20
  }
 ],
 "metadata": {
  "language_info": {
   "name": "python"
  },
  "kernelspec": {
   "name": "python3",
   "language": "python",
   "display_name": "Python 3 (ipykernel)"
  }
 },
 "nbformat": 4,
 "nbformat_minor": 2
}
